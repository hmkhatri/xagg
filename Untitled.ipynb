{
 "cells": [
  {
   "cell_type": "code",
   "execution_count": 1,
   "metadata": {},
   "outputs": [],
   "source": [
    "import xarray as xr\n",
    "import geopandas as gpd\n",
    "import xagg as xa\n",
    "import numpy as np"
   ]
  },
  {
   "cell_type": "code",
   "execution_count": 2,
   "metadata": {},
   "outputs": [],
   "source": [
    "# Load temperature data using xarray\n",
    "ds_tas = xr.open_dataset('~/Documents/tmp/climateestimate_xagg_tutorial/climate_data/tas_day_BEST_historical_station_19800101-19891231.nc')"
   ]
  },
  {
   "cell_type": "code",
   "execution_count": 3,
   "metadata": {},
   "outputs": [],
   "source": [
    "# Load population data using xarray \n",
    "ds_pop = xr.open_dataset('~/Documents/tmp/climateestimate_xagg_tutorial/pcount/usap90ag.nc')"
   ]
  },
  {
   "cell_type": "code",
   "execution_count": 4,
   "metadata": {},
   "outputs": [],
   "source": [
    "# Load county shapefiles using geopandas\n",
    "gdf_counties = gpd.read_file('/Users/kevinschwarzwald/Documents/tmp/climateestimate_xagg_tutorial/geo_data/UScounties.shp')"
   ]
  },
  {
   "cell_type": "code",
   "execution_count": 5,
   "metadata": {},
   "outputs": [
    {
     "name": "stdout",
     "output_type": "stream",
     "text": [
      "creating polygons for each pixel...\n",
      "lat/lon bounds not found in dataset; they will be created.\n",
      "calculating overlaps between pixels and output polygons...\n",
      "success!\n"
     ]
    }
   ],
   "source": [
    "wm = xa.pixel_overlaps(ds_tas,gdf_counties,weights=ds_pop.Population,subset_bbox=False)"
   ]
  },
  {
   "cell_type": "code",
   "execution_count": 5,
   "metadata": {},
   "outputs": [
    {
     "name": "stdout",
     "output_type": "stream",
     "text": [
      "creating polygons for each pixel...\n",
      "lat/lon bounds not found in dataset; they will be created.\n",
      "calculating overlaps between pixels and output polygons...\n",
      "success!\n"
     ]
    }
   ],
   "source": [
    "wm = xa.pixel_overlaps(ds_tas,gdf_counties,subset_bbox=False)"
   ]
  },
  {
   "cell_type": "code",
   "execution_count": null,
   "metadata": {},
   "outputs": [
    {
     "name": "stdout",
     "output_type": "stream",
     "text": [
      "> \u001b[0;32m/Volumes/KSssd/projects/xagg/xagg/core.py\u001b[0m(358)\u001b[0;36maggregate\u001b[0;34m()\u001b[0m\n",
      "\u001b[0;32m    356 \u001b[0;31m\u001b[0;34m\u001b[0m\u001b[0m\n",
      "\u001b[0m\u001b[0;32m    357 \u001b[0;31m    \u001b[0mbreakpoint\u001b[0m\u001b[0;34m(\u001b[0m\u001b[0;34m)\u001b[0m\u001b[0;34m\u001b[0m\u001b[0;34m\u001b[0m\u001b[0m\n",
      "\u001b[0m\u001b[0;32m--> 358 \u001b[0;31m    \u001b[0;32mfor\u001b[0m \u001b[0mvar\u001b[0m \u001b[0;32min\u001b[0m \u001b[0mds\u001b[0m\u001b[0;34m.\u001b[0m\u001b[0mvar\u001b[0m\u001b[0;34m(\u001b[0m\u001b[0;34m)\u001b[0m\u001b[0;34m:\u001b[0m\u001b[0;34m\u001b[0m\u001b[0;34m\u001b[0m\u001b[0m\n",
      "\u001b[0m\u001b[0;32m    359 \u001b[0;31m        \u001b[0;31m# Process for every variable that has locational information, but isn't a\u001b[0m\u001b[0;34m\u001b[0m\u001b[0;34m\u001b[0m\u001b[0;34m\u001b[0m\u001b[0m\n",
      "\u001b[0m\u001b[0;32m    360 \u001b[0;31m        \u001b[0;31m# bound variable\u001b[0m\u001b[0;34m\u001b[0m\u001b[0;34m\u001b[0m\u001b[0;34m\u001b[0m\u001b[0m\n",
      "\u001b[0m\n"
     ]
    },
    {
     "name": "stdin",
     "output_type": "stream",
     "text": [
      "ipdb>  wm.weights\n"
     ]
    },
    {
     "name": "stdout",
     "output_type": "stream",
     "text": [
      "'nowghts'\n"
     ]
    },
    {
     "name": "stdin",
     "output_type": "stream",
     "text": [
      "ipdb>  weights\n"
     ]
    },
    {
     "name": "stdout",
     "output_type": "stream",
     "text": [
      "array([[1.],\n",
      "       [1.],\n",
      "       [1.],\n",
      "       ...,\n",
      "       [1.],\n",
      "       [1.],\n",
      "       [1.]])\n"
     ]
    },
    {
     "name": "stdin",
     "output_type": "stream",
     "text": [
      "ipdb>  np.shape(weights)\n"
     ]
    },
    {
     "name": "stdout",
     "output_type": "stream",
     "text": [
      "(1708, 1)\n"
     ]
    },
    {
     "name": "stdin",
     "output_type": "stream",
     "text": [
      "ipdb>  ds.var()\n"
     ]
    },
    {
     "name": "stdout",
     "output_type": "stream",
     "text": [
      "<xarray.Dataset>\n",
      "Dimensions:      ()\n",
      "Data variables:\n",
      "    date_number  float64 8.336\n",
      "    year         float64 8.252\n",
      "    month        float64 11.89\n",
      "    day          float64 77.46\n",
      "    day_of_year  float64 1.109e+04\n",
      "    land_mask    float64 0.2033\n",
      "    tas          float64 137.4\n"
     ]
    },
    {
     "name": "stdin",
     "output_type": "stream",
     "text": [
      "ipdb>  var = 'tas\n"
     ]
    },
    {
     "name": "stdout",
     "output_type": "stream",
     "text": [
      "*** SyntaxError: EOL while scanning string literal\n"
     ]
    },
    {
     "name": "stdin",
     "output_type": "stream",
     "text": [
      "ipdb>  var = 'tas'\n",
      "ipdb>  wm.agg[var] = None             \n",
      "ipdb>  poly_idx = 0\n",
      "ipdb>  wm.agg.iloc[poly_idx,:].pix_idxs\n"
     ]
    },
    {
     "name": "stdout",
     "output_type": "stream",
     "text": [
      "[1555, 1556, 1616, 1617]\n"
     ]
    },
    {
     "name": "stdin",
     "output_type": "stream",
     "text": [
      "ipdb>  [[((ds[var].isel(loc=wm.agg.iloc[poly_idx,:].pix_idxs)*                                                            normalize(np.squeeze(wm.agg.iloc[poly_idx,:].rel_area)*                                                              weights[wm.agg.iloc[poly_idx,:].pix_idxs])).                                                           sum('loc')).values]]\n"
     ]
    },
    {
     "name": "stdout",
     "output_type": "stream",
     "text": [
      "*** ValueError: operands could not be broadcast together with shapes (3653,4) (4,4)\n"
     ]
    },
    {
     "name": "stdin",
     "output_type": "stream",
     "text": [
      "ipdb>   weights[wm.agg.iloc[poly_idx,:].pix_idxs]\n"
     ]
    },
    {
     "name": "stdout",
     "output_type": "stream",
     "text": [
      "array([[1.],\n",
      "       [1.],\n",
      "       [1.],\n",
      "       [1.]])\n"
     ]
    },
    {
     "name": "stdin",
     "output_type": "stream",
     "text": [
      "ipdb>  weights = np.transpose(np.ones((len(wm.source_grid['lat']),1)))\n",
      "ipdb>  [[((ds[var].isel(loc=wm.agg.iloc[poly_idx,:].pix_idxs)*                                                            normalize(np.squeeze(wm.agg.iloc[poly_idx,:].rel_area)*                                                              weights[wm.agg.iloc[poly_idx,:].pix_idxs])).                                                           sum('loc')).values]]\n"
     ]
    },
    {
     "name": "stdout",
     "output_type": "stream",
     "text": [
      "*** IndexError: index 1555 is out of bounds for axis 0 with size 1\n"
     ]
    },
    {
     "name": "stdin",
     "output_type": "stream",
     "text": [
      "ipdb>  np.ones((len(wm.source_grid['lat'])))\n"
     ]
    },
    {
     "name": "stdout",
     "output_type": "stream",
     "text": [
      "array([1., 1., 1., ..., 1., 1., 1.])\n"
     ]
    },
    {
     "name": "stdin",
     "output_type": "stream",
     "text": [
      "ipdb>  weights = np.ones((len(wm.source_grid['lat'])))\n",
      "ipdb>  [[((ds[var].isel(loc=wm.agg.iloc[poly_idx,:].pix_idxs)*                                                            normalize(np.squeeze(wm.agg.iloc[poly_idx,:].rel_area)*                                                              weights[wm.agg.iloc[poly_idx,:].pix_idxs])).                                                           sum('loc')).values]]\n"
     ]
    },
    {
     "name": "stdout",
     "output_type": "stream",
     "text": [
      "[[array([-10.52218324, -16.49536913, -18.79647091, ..., -19.14997375,\n",
      "       -15.01541115,  -9.98199707])]]\n"
     ]
    }
   ],
   "source": [
    "aggregated = xa.aggregate(ds_tas,wm)"
   ]
  },
  {
   "cell_type": "code",
   "execution_count": null,
   "metadata": {},
   "outputs": [],
   "source": []
  }
 ],
 "metadata": {
  "kernelspec": {
   "display_name": "Python 3",
   "language": "python",
   "name": "python3"
  },
  "language_info": {
   "codemirror_mode": {
    "name": "ipython",
    "version": 3
   },
   "file_extension": ".py",
   "mimetype": "text/x-python",
   "name": "python",
   "nbconvert_exporter": "python",
   "pygments_lexer": "ipython3",
   "version": "3.7.9"
  }
 },
 "nbformat": 4,
 "nbformat_minor": 4
}

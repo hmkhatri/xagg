{
 "cells": [
  {
   "cell_type": "code",
   "execution_count": 1,
   "metadata": {},
   "outputs": [],
   "source": [
    "import xarray as xr\n",
    "import geopandas as gpd\n",
    "import xagg as xa\n",
    "import numpy as np"
   ]
  },
  {
   "cell_type": "code",
   "execution_count": 2,
   "metadata": {},
   "outputs": [],
   "source": [
    "# Load temperature data using xarray\n",
    "ds_tas = xr.open_dataset('~/Documents/tmp/climateestimate_xagg_tutorial/climate_data/tas_day_BEST_historical_station_19800101-19891231.nc')"
   ]
  },
  {
   "cell_type": "code",
   "execution_count": 3,
   "metadata": {},
   "outputs": [],
   "source": [
    "# Load population data using xarray \n",
    "ds_pop = xr.open_dataset('~/Documents/tmp/climateestimate_xagg_tutorial/pcount/usap90ag.nc')"
   ]
  },
  {
   "cell_type": "code",
   "execution_count": 4,
   "metadata": {},
   "outputs": [],
   "source": [
    "# Load county shapefiles using geopandas\n",
    "gdf_counties = gpd.read_file('/Users/kevinschwarzwald/Documents/tmp/climateestimate_xagg_tutorial/geo_data/UScounties.shp')"
   ]
  },
  {
   "cell_type": "code",
   "execution_count": 5,
   "metadata": {},
   "outputs": [
    {
     "name": "stdout",
     "output_type": "stream",
     "text": [
      "creating polygons for each pixel...\n",
      "lat/lon bounds not found in dataset; they will be created.\n",
      "calculating overlaps between pixels and output polygons...\n",
      "success!\n"
     ]
    }
   ],
   "source": [
    "wm = xa.pixel_overlaps(ds_tas,gdf_counties,weights=ds_pop.Population,subset_bbox=False)"
   ]
  },
  {
   "cell_type": "code",
   "execution_count": 6,
   "metadata": {},
   "outputs": [
    {
     "name": "stdout",
     "output_type": "stream",
     "text": [
      "aggregating land_mask...\n",
      "aggregating tas...\n",
      "all variables aggregated to polygons!\n"
     ]
    }
   ],
   "source": [
    "aggregated = xa.aggregate(ds_tas,wm)"
   ]
  },
  {
   "cell_type": "code",
   "execution_count": null,
   "metadata": {},
   "outputs": [],
   "source": []
  }
 ],
 "metadata": {
  "kernelspec": {
   "display_name": "Python 3",
   "language": "python",
   "name": "python3"
  },
  "language_info": {
   "codemirror_mode": {
    "name": "ipython",
    "version": 3
   },
   "file_extension": ".py",
   "mimetype": "text/x-python",
   "name": "python",
   "nbconvert_exporter": "python",
   "pygments_lexer": "ipython3",
   "version": "3.7.9"
  }
 },
 "nbformat": 4,
 "nbformat_minor": 4
}
